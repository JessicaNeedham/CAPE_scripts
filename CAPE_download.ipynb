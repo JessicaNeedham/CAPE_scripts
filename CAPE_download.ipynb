{
 "cells": [
  {
   "cell_type": "markdown",
   "id": "6331e180-7eca-4980-a087-3fd7febf8a3e",
   "metadata": {},
   "source": [
    "### Download CAPE data"
   ]
  },
  {
   "cell_type": "markdown",
   "id": "46df6009-474d-4459-853b-36bf5b8146ab",
   "metadata": {},
   "source": [
    "Convective available potential energy (CAPE) data is part of ERA5 reanalysis at an hourly, 0.25 degree x 0.25 degree resolution, available from the European Centre for Medium-Range  Weather Forecasts. \n",
    "\n",
    "To install API follow these instructions: https://cds.climate.copernicus.eu/api-how-to\n"
   ]
  },
  {
   "cell_type": "code",
   "execution_count": 1,
   "id": "8824c965-5272-473d-9ec1-7308670e568a",
   "metadata": {},
   "outputs": [],
   "source": [
    "import cdsapi"
   ]
  },
  {
   "cell_type": "code",
   "execution_count": 2,
   "id": "f48a7750-279f-4c88-8959-71c07cda4a66",
   "metadata": {},
   "outputs": [
    {
     "name": "stdout",
     "output_type": "stream",
     "text": [
      "2013\n",
      "01\n"
     ]
    },
    {
     "name": "stderr",
     "output_type": "stream",
     "text": [
      "2024-02-20 18:17:45,082 INFO Welcome to the CDS\n",
      "2024-02-20 18:17:45,083 INFO Sending request to https://cds.climate.copernicus.eu/api/v2/tasks/services/tool/toolbox/orchestrator/workflow/clientid-331de9347e2b4e04b4eeec393b992501\n",
      "2024-02-20 18:17:45,349 INFO Request is completed\n",
      "2024-02-20 18:17:45,350 INFO Downloading https://download-0003-clone.copernicus-climate.eu/cache-compute-0003/cache/data8/a99f3f65-bab8-45a2-a95a-ae7307e8d654.nc to /Users/JFNeedham/Desktop/CAPE_downloads/data_downloads/2013_01.nc (41.1M)\n",
      "2024-02-20 18:17:50,869 INFO Download rate 7.4M/s                               \n",
      "2024-02-20 18:17:51,063 INFO Welcome to the CDS\n",
      "2024-02-20 18:17:51,064 INFO Sending request to https://cds.climate.copernicus.eu/api/v2/tasks/services/tool/toolbox/orchestrator/workflow/clientid-1b2fc64317ba4c9c91a7d3b1972454f5\n"
     ]
    },
    {
     "name": "stdout",
     "output_type": "stream",
     "text": [
      "2013\n",
      "02\n"
     ]
    },
    {
     "name": "stderr",
     "output_type": "stream",
     "text": [
      "2024-02-20 18:17:51,301 INFO Request is queued\n",
      "2024-02-20 18:17:52,499 INFO Request is running\n",
      "2024-02-20 18:20:44,434 INFO Request is completed\n",
      "2024-02-20 18:20:44,436 INFO Downloading https://download-0012-clone.copernicus-climate.eu/cache-compute-0012/cache/data0/48e4eb95-9253-41cb-a44d-b7a8bbc548ec.nc to /Users/JFNeedham/Desktop/CAPE_downloads/data_downloads/2013_02.nc (37.1M)\n",
      "2024-02-20 18:20:50,165 INFO Download rate 6.5M/s                               \n",
      "2024-02-20 18:20:50,349 INFO Welcome to the CDS\n",
      "2024-02-20 18:20:50,351 INFO Sending request to https://cds.climate.copernicus.eu/api/v2/tasks/services/tool/toolbox/orchestrator/workflow/clientid-173c373059a84292944ee39aa1ee75ef\n"
     ]
    },
    {
     "name": "stdout",
     "output_type": "stream",
     "text": [
      "2013\n",
      "03\n"
     ]
    },
    {
     "name": "stderr",
     "output_type": "stream",
     "text": [
      "2024-02-20 18:20:50,658 INFO Request is queued\n",
      "2024-02-20 18:20:51,850 INFO Request is running\n",
      "2024-02-20 18:25:11,062 INFO Request is completed\n",
      "2024-02-20 18:25:11,064 INFO Downloading https://download-0009-clone.copernicus-climate.eu/cache-compute-0009/cache/data4/893570aa-db05-4beb-bee7-3891d96d6d83.nc to /Users/JFNeedham/Desktop/CAPE_downloads/data_downloads/2013_03.nc (41.1M)\n",
      "2024-02-20 18:25:16,330 INFO Download rate 7.8M/s                               \n",
      "2024-02-20 18:25:16,517 INFO Welcome to the CDS\n",
      "2024-02-20 18:25:16,518 INFO Sending request to https://cds.climate.copernicus.eu/api/v2/tasks/services/tool/toolbox/orchestrator/workflow/clientid-c5a77a01bbb84cdbbfcb77e7fdf2c5d2\n"
     ]
    },
    {
     "name": "stdout",
     "output_type": "stream",
     "text": [
      "2013\n",
      "04\n"
     ]
    },
    {
     "name": "stderr",
     "output_type": "stream",
     "text": [
      "2024-02-20 18:25:16,854 INFO Request is queued\n",
      "2024-02-20 18:25:18,060 INFO Request is running\n",
      "2024-02-20 18:29:37,310 INFO Request is completed\n",
      "2024-02-20 18:29:37,311 INFO Downloading https://download-0005-clone.copernicus-climate.eu/cache-compute-0005/cache/data9/8d137a26-52d7-4bd3-ba8d-54555b8da80d.nc to /Users/JFNeedham/Desktop/CAPE_downloads/data_downloads/2013_04.nc (39.7M)\n",
      "2024-02-20 18:29:53,004 INFO Download rate 2.5M/s                               \n",
      "2024-02-20 18:29:53,190 INFO Welcome to the CDS\n",
      "2024-02-20 18:29:53,192 INFO Sending request to https://cds.climate.copernicus.eu/api/v2/tasks/services/tool/toolbox/orchestrator/workflow/clientid-824df747df0549508db00aa56e5aec15\n"
     ]
    },
    {
     "name": "stdout",
     "output_type": "stream",
     "text": [
      "2013\n",
      "05\n"
     ]
    },
    {
     "name": "stderr",
     "output_type": "stream",
     "text": [
      "2024-02-20 18:29:53,473 INFO Request is queued\n",
      "2024-02-20 18:29:54,673 INFO Request is running\n",
      "2024-02-20 18:34:13,843 INFO Request is completed\n",
      "2024-02-20 18:34:13,844 INFO Downloading https://download-0018.copernicus-climate.eu/cache-compute-0018/cache/data2/7a56640a-b3eb-4845-a086-06481b45e541.nc to /Users/JFNeedham/Desktop/CAPE_downloads/data_downloads/2013_05.nc (41.1M)\n",
      "2024-02-20 18:34:19,667 INFO Download rate 7.1M/s                               \n",
      "2024-02-20 18:34:19,851 INFO Welcome to the CDS\n",
      "2024-02-20 18:34:19,852 INFO Sending request to https://cds.climate.copernicus.eu/api/v2/tasks/services/tool/toolbox/orchestrator/workflow/clientid-e2dcab771da0452d93f393f427927180\n"
     ]
    },
    {
     "name": "stdout",
     "output_type": "stream",
     "text": [
      "2013\n",
      "06\n"
     ]
    },
    {
     "name": "stderr",
     "output_type": "stream",
     "text": [
      "2024-02-20 18:34:20,088 INFO Request is queued\n",
      "2024-02-20 18:34:21,279 INFO Request is running\n",
      "2024-02-20 18:38:40,456 INFO Request is completed\n",
      "2024-02-20 18:38:40,458 INFO Downloading https://download-0018.copernicus-climate.eu/cache-compute-0018/cache/data2/ab4cd43f-64bb-47b9-bdc4-acd723d8e292.nc to /Users/JFNeedham/Desktop/CAPE_downloads/data_downloads/2013_06.nc (39.7M)\n",
      "2024-02-20 18:38:45,463 INFO Download rate 7.9M/s                               \n",
      "2024-02-20 18:38:45,650 INFO Welcome to the CDS\n",
      "2024-02-20 18:38:45,652 INFO Sending request to https://cds.climate.copernicus.eu/api/v2/tasks/services/tool/toolbox/orchestrator/workflow/clientid-3ebb049e47cb4368a57417d512c86c65\n"
     ]
    },
    {
     "name": "stdout",
     "output_type": "stream",
     "text": [
      "2013\n",
      "07\n"
     ]
    },
    {
     "name": "stderr",
     "output_type": "stream",
     "text": [
      "2024-02-20 18:38:45,853 INFO Request is queued\n",
      "2024-02-20 18:38:47,044 INFO Request is running\n",
      "2024-02-20 18:43:06,247 INFO Request is completed\n",
      "2024-02-20 18:43:06,249 INFO Downloading https://download-0017.copernicus-climate.eu/cache-compute-0017/cache/data5/f112b4e8-435c-4a25-9514-f1a1022e638a.nc to /Users/JFNeedham/Desktop/CAPE_downloads/data_downloads/2013_07.nc (41.1M)\n",
      "2024-02-20 18:43:11,570 INFO Download rate 7.7M/s                               \n",
      "2024-02-20 18:43:11,754 INFO Welcome to the CDS\n",
      "2024-02-20 18:43:11,755 INFO Sending request to https://cds.climate.copernicus.eu/api/v2/tasks/services/tool/toolbox/orchestrator/workflow/clientid-7f38ba309b6944acba8b11fcfb8328d7\n"
     ]
    },
    {
     "name": "stdout",
     "output_type": "stream",
     "text": [
      "2013\n",
      "08\n"
     ]
    },
    {
     "name": "stderr",
     "output_type": "stream",
     "text": [
      "2024-02-20 18:43:11,991 INFO Request is queued\n",
      "2024-02-20 18:43:13,190 INFO Request is running\n",
      "2024-02-20 18:47:32,362 INFO Request is completed\n",
      "2024-02-20 18:47:32,362 INFO Downloading https://download-0015-clone.copernicus-climate.eu/cache-compute-0015/cache/data1/156f3ac7-abdb-42a4-8338-7a1e72ec953e.nc to /Users/JFNeedham/Desktop/CAPE_downloads/data_downloads/2013_08.nc (41.1M)\n",
      "2024-02-20 18:47:37,915 INFO Download rate 7.4M/s                               \n",
      "2024-02-20 18:47:38,101 INFO Welcome to the CDS\n",
      "2024-02-20 18:47:38,102 INFO Sending request to https://cds.climate.copernicus.eu/api/v2/tasks/services/tool/toolbox/orchestrator/workflow/clientid-be248983f1f842f99a71402d72c20a7e\n"
     ]
    },
    {
     "name": "stdout",
     "output_type": "stream",
     "text": [
      "2013\n",
      "09\n"
     ]
    },
    {
     "name": "stderr",
     "output_type": "stream",
     "text": [
      "2024-02-20 18:47:38,304 INFO Request is queued\n",
      "2024-02-20 18:47:39,494 INFO Request is running\n",
      "2024-02-20 18:56:00,325 INFO Request is completed\n",
      "2024-02-20 18:56:00,326 INFO Downloading https://download-0004-clone.copernicus-climate.eu/cache-compute-0004/cache/data5/4f0e2b58-1218-4e36-a737-819f6802587f.nc to /Users/JFNeedham/Desktop/CAPE_downloads/data_downloads/2013_09.nc (39.7M)\n",
      "2024-02-20 18:56:05,606 INFO Download rate 7.5M/s                               \n",
      "2024-02-20 18:56:05,791 INFO Welcome to the CDS\n",
      "2024-02-20 18:56:05,792 INFO Sending request to https://cds.climate.copernicus.eu/api/v2/tasks/services/tool/toolbox/orchestrator/workflow/clientid-05272ebb830f49e198da473235c9cb11\n"
     ]
    },
    {
     "name": "stdout",
     "output_type": "stream",
     "text": [
      "2013\n",
      "10\n"
     ]
    },
    {
     "name": "stderr",
     "output_type": "stream",
     "text": [
      "2024-02-20 18:56:06,036 INFO Request is queued\n",
      "2024-02-20 18:56:07,235 INFO Request is running\n",
      "2024-02-20 19:00:26,467 INFO Request is completed\n",
      "2024-02-20 19:00:26,468 INFO Downloading https://download-0015-clone.copernicus-climate.eu/cache-compute-0015/cache/data9/026aaf35-67b7-4aeb-afbe-9eb4f61c50bf.nc to /Users/JFNeedham/Desktop/CAPE_downloads/data_downloads/2013_10.nc (41.1M)\n",
      "2024-02-20 19:00:31,447 INFO Download rate 8.2M/s                               \n",
      "2024-02-20 19:00:31,636 INFO Welcome to the CDS\n",
      "2024-02-20 19:00:31,637 INFO Sending request to https://cds.climate.copernicus.eu/api/v2/tasks/services/tool/toolbox/orchestrator/workflow/clientid-3b717fed419c41cc8b80b4a23f17f2e9\n"
     ]
    },
    {
     "name": "stdout",
     "output_type": "stream",
     "text": [
      "2013\n",
      "11\n"
     ]
    },
    {
     "name": "stderr",
     "output_type": "stream",
     "text": [
      "2024-02-20 19:00:31,981 INFO Request is queued\n",
      "2024-02-20 19:00:33,185 INFO Request is running\n",
      "2024-02-20 19:04:52,462 INFO Request is completed\n",
      "2024-02-20 19:04:52,463 INFO Downloading https://download-0014-clone.copernicus-climate.eu/cache-compute-0014/cache/data4/34f1863d-b89a-4376-8d15-e227e50be29e.nc to /Users/JFNeedham/Desktop/CAPE_downloads/data_downloads/2013_11.nc (39.7M)\n",
      "2024-02-20 19:05:00,237 INFO Download rate 5.1M/s                               \n",
      "2024-02-20 19:05:00,426 INFO Welcome to the CDS\n",
      "2024-02-20 19:05:00,427 INFO Sending request to https://cds.climate.copernicus.eu/api/v2/tasks/services/tool/toolbox/orchestrator/workflow/clientid-955f42ebd98d4d18823b12d2cbe91abc\n"
     ]
    },
    {
     "name": "stdout",
     "output_type": "stream",
     "text": [
      "2013\n",
      "12\n"
     ]
    },
    {
     "name": "stderr",
     "output_type": "stream",
     "text": [
      "2024-02-20 19:05:00,678 INFO Request is queued\n",
      "2024-02-20 19:05:01,879 INFO Request is running\n",
      "2024-02-20 19:13:23,606 INFO Request is completed\n",
      "2024-02-20 19:13:23,607 INFO Downloading https://download-0010-clone.copernicus-climate.eu/cache-compute-0010/cache/data5/b9900701-db37-4b37-98ef-2f4e58b41f4f.nc to /Users/JFNeedham/Desktop/CAPE_downloads/data_downloads/2013_12.nc (41.1M)\n",
      "2024-02-20 19:13:29,326 INFO Download rate 7.2M/s                               \n",
      "2024-02-20 19:13:29,512 INFO Welcome to the CDS\n",
      "2024-02-20 19:13:29,513 INFO Sending request to https://cds.climate.copernicus.eu/api/v2/tasks/services/tool/toolbox/orchestrator/workflow/clientid-8fdd0ea26abe4971bac5103cea62e56e\n"
     ]
    },
    {
     "name": "stdout",
     "output_type": "stream",
     "text": [
      "2014\n",
      "01\n"
     ]
    },
    {
     "name": "stderr",
     "output_type": "stream",
     "text": [
      "2024-02-20 19:13:29,710 INFO Request is queued\n",
      "2024-02-20 19:13:30,904 INFO Request is running\n",
      "2024-02-20 19:17:50,182 INFO Request is completed\n",
      "2024-02-20 19:17:50,182 INFO Downloading https://download-0018.copernicus-climate.eu/cache-compute-0018/cache/data2/69ed3445-0012-4aa0-bdd4-ca8b2d26742a.nc to /Users/JFNeedham/Desktop/CAPE_downloads/data_downloads/2014_01.nc (41.1M)\n",
      "2024-02-20 19:17:55,691 INFO Download rate 7.5M/s                               \n",
      "2024-02-20 19:17:55,874 INFO Welcome to the CDS\n",
      "2024-02-20 19:17:55,875 INFO Sending request to https://cds.climate.copernicus.eu/api/v2/tasks/services/tool/toolbox/orchestrator/workflow/clientid-5f105c7be43746cda9f5e6860d367612\n"
     ]
    },
    {
     "name": "stdout",
     "output_type": "stream",
     "text": [
      "2014\n",
      "02\n"
     ]
    },
    {
     "name": "stderr",
     "output_type": "stream",
     "text": [
      "2024-02-20 19:17:56,115 INFO Request is queued\n",
      "2024-02-20 19:17:57,315 INFO Request is running\n",
      "2024-02-20 19:22:16,538 INFO Request is completed\n",
      "2024-02-20 19:22:16,540 INFO Downloading https://download-0019.copernicus-climate.eu/cache-compute-0019/cache/data1/9de24c23-4a12-436b-ab76-9b7a3d78ae19.nc to /Users/JFNeedham/Desktop/CAPE_downloads/data_downloads/2014_02.nc (37.1M)\n",
      "2024-02-20 19:22:25,305 INFO Download rate 4.2M/s                               \n",
      "2024-02-20 19:22:25,494 INFO Welcome to the CDS\n",
      "2024-02-20 19:22:25,496 INFO Sending request to https://cds.climate.copernicus.eu/api/v2/tasks/services/tool/toolbox/orchestrator/workflow/clientid-75068518bf0645b5bfdd54ca3964db34\n"
     ]
    },
    {
     "name": "stdout",
     "output_type": "stream",
     "text": [
      "2014\n",
      "03\n"
     ]
    },
    {
     "name": "stderr",
     "output_type": "stream",
     "text": [
      "2024-02-20 19:22:25,755 INFO Request is queued\n",
      "2024-02-20 19:22:26,962 INFO Request is running\n",
      "2024-02-20 19:26:46,257 INFO Request is completed\n",
      "2024-02-20 19:26:46,258 INFO Downloading https://download-0000-clone.copernicus-climate.eu/cache-compute-0000/cache/data3/f5f160f6-6e8a-4fa2-9e5c-21d60f1d821d.nc to /Users/JFNeedham/Desktop/CAPE_downloads/data_downloads/2014_03.nc (41.1M)\n",
      "2024-02-20 19:26:51,678 INFO Download rate 7.6M/s                               \n",
      "2024-02-20 19:26:51,869 INFO Welcome to the CDS\n",
      "2024-02-20 19:26:51,870 INFO Sending request to https://cds.climate.copernicus.eu/api/v2/tasks/services/tool/toolbox/orchestrator/workflow/clientid-f0f3354b843540d0ac8b47e5da12d648\n"
     ]
    },
    {
     "name": "stdout",
     "output_type": "stream",
     "text": [
      "2014\n",
      "04\n"
     ]
    },
    {
     "name": "stderr",
     "output_type": "stream",
     "text": [
      "2024-02-20 19:26:52,133 INFO Request is queued\n",
      "2024-02-20 19:26:53,332 INFO Request is running\n",
      "2024-02-20 19:33:13,379 INFO Request is completed\n",
      "2024-02-20 19:33:13,381 INFO Downloading https://download-0007-clone.copernicus-climate.eu/cache-compute-0007/cache/data5/7bf99cf6-6086-4ab3-a5df-ad1a95285c69.nc to /Users/JFNeedham/Desktop/CAPE_downloads/data_downloads/2014_04.nc (39.7M)\n",
      "2024-02-20 19:33:24,693 INFO Download rate 3.5M/s                               \n",
      "2024-02-20 19:33:24,884 INFO Welcome to the CDS\n",
      "2024-02-20 19:33:24,885 INFO Sending request to https://cds.climate.copernicus.eu/api/v2/tasks/services/tool/toolbox/orchestrator/workflow/clientid-f80bce5a045a4357991a19ba3cc6acb9\n"
     ]
    },
    {
     "name": "stdout",
     "output_type": "stream",
     "text": [
      "2014\n",
      "05\n"
     ]
    },
    {
     "name": "stderr",
     "output_type": "stream",
     "text": [
      "2024-02-20 19:33:25,153 INFO Request is queued\n",
      "2024-02-20 19:33:26,353 INFO Request is running\n",
      "2024-02-20 19:37:45,610 INFO Request is completed\n",
      "2024-02-20 19:37:45,612 INFO Downloading https://download-0021.copernicus-climate.eu/cache-compute-0021/cache/data3/4c922d90-b724-4356-89ac-ea394d0e054f.nc to /Users/JFNeedham/Desktop/CAPE_downloads/data_downloads/2014_05.nc (41.1M)\n",
      "2024-02-20 19:37:51,521 INFO Download rate 7M/s                                 \n",
      "2024-02-20 19:37:51,708 INFO Welcome to the CDS\n",
      "2024-02-20 19:37:51,709 INFO Sending request to https://cds.climate.copernicus.eu/api/v2/tasks/services/tool/toolbox/orchestrator/workflow/clientid-ba3dda19ce934cc880dca7d4dd9ab5f5\n"
     ]
    },
    {
     "name": "stdout",
     "output_type": "stream",
     "text": [
      "2014\n",
      "06\n"
     ]
    },
    {
     "name": "stderr",
     "output_type": "stream",
     "text": [
      "2024-02-20 19:37:51,945 INFO Request is queued\n",
      "2024-02-20 19:37:53,141 INFO Request is running\n",
      "2024-02-20 19:42:12,340 INFO Request is completed\n",
      "2024-02-20 19:42:12,342 INFO Downloading https://download-0004-clone.copernicus-climate.eu/cache-compute-0004/cache/data0/b6349bc9-07d0-4261-85fa-dfd41e6bede2.nc to /Users/JFNeedham/Desktop/CAPE_downloads/data_downloads/2014_06.nc (39.7M)\n",
      "2024-02-20 19:43:02,965 INFO Download rate 803.9K/s                             \n",
      "2024-02-20 19:43:03,155 INFO Welcome to the CDS\n",
      "2024-02-20 19:43:03,156 INFO Sending request to https://cds.climate.copernicus.eu/api/v2/tasks/services/tool/toolbox/orchestrator/workflow/clientid-86baf72e6e4f45a0a5a63a2dfbcdf9b2\n"
     ]
    },
    {
     "name": "stdout",
     "output_type": "stream",
     "text": [
      "2014\n",
      "07\n"
     ]
    },
    {
     "name": "stderr",
     "output_type": "stream",
     "text": [
      "2024-02-20 19:43:03,437 INFO Request is queued\n",
      "2024-02-20 19:43:04,635 INFO Request is running\n",
      "2024-02-20 19:47:23,844 INFO Request is completed\n",
      "2024-02-20 19:47:23,845 INFO Downloading https://download-0003-clone.copernicus-climate.eu/cache-compute-0003/cache/data2/05c69db5-9145-422d-981c-f34bf0566621.nc to /Users/JFNeedham/Desktop/CAPE_downloads/data_downloads/2014_07.nc (41.1M)\n",
      "2024-02-20 19:47:30,805 INFO Download rate 5.9M/s                               \n",
      "2024-02-20 19:47:30,989 INFO Welcome to the CDS\n",
      "2024-02-20 19:47:30,990 INFO Sending request to https://cds.climate.copernicus.eu/api/v2/tasks/services/tool/toolbox/orchestrator/workflow/clientid-8d1b2422597e4213b799d2679c069a5b\n"
     ]
    },
    {
     "name": "stdout",
     "output_type": "stream",
     "text": [
      "2014\n",
      "08\n"
     ]
    },
    {
     "name": "stderr",
     "output_type": "stream",
     "text": [
      "2024-02-20 19:47:31,198 INFO Request is queued\n",
      "2024-02-20 19:47:32,389 INFO Request is running\n",
      "2024-02-20 19:51:51,552 INFO Request is completed\n",
      "2024-02-20 19:51:51,553 INFO Downloading https://download-0014-clone.copernicus-climate.eu/cache-compute-0014/cache/data9/d64e68be-75e7-4fc8-bccf-d0fbee025cd0.nc to /Users/JFNeedham/Desktop/CAPE_downloads/data_downloads/2014_08.nc (41.1M)\n",
      "2024-02-20 19:51:57,044 INFO Download rate 7.5M/s                               \n",
      "2024-02-20 19:51:57,226 INFO Welcome to the CDS\n",
      "2024-02-20 19:51:57,228 INFO Sending request to https://cds.climate.copernicus.eu/api/v2/tasks/services/tool/toolbox/orchestrator/workflow/clientid-fdd39891bc92487e86a6ac442044fafc\n"
     ]
    },
    {
     "name": "stdout",
     "output_type": "stream",
     "text": [
      "2014\n",
      "09\n"
     ]
    },
    {
     "name": "stderr",
     "output_type": "stream",
     "text": [
      "2024-02-20 19:51:57,441 INFO Request is queued\n",
      "2024-02-20 19:51:58,634 INFO Request is running\n",
      "2024-02-20 19:56:17,824 INFO Request is completed\n",
      "2024-02-20 19:56:17,825 INFO Downloading https://download-0010-clone.copernicus-climate.eu/cache-compute-0010/cache/data5/2ae74243-0da9-42b1-93c9-f38c0af5c166.nc to /Users/JFNeedham/Desktop/CAPE_downloads/data_downloads/2014_09.nc (39.7M)\n",
      "2024-02-20 19:56:30,512 INFO Download rate 3.1M/s                               \n",
      "2024-02-20 19:56:30,696 INFO Welcome to the CDS\n",
      "2024-02-20 19:56:30,697 INFO Sending request to https://cds.climate.copernicus.eu/api/v2/tasks/services/tool/toolbox/orchestrator/workflow/clientid-2757c27900cb4b55853ed10a5600c373\n"
     ]
    },
    {
     "name": "stdout",
     "output_type": "stream",
     "text": [
      "2014\n",
      "10\n"
     ]
    },
    {
     "name": "stderr",
     "output_type": "stream",
     "text": [
      "2024-02-20 19:56:30,935 INFO Request is queued\n",
      "2024-02-20 19:56:32,134 INFO Request is running\n",
      "2024-02-20 20:00:51,311 INFO Request is completed\n",
      "2024-02-20 20:00:51,312 INFO Downloading https://download-0003-clone.copernicus-climate.eu/cache-compute-0003/cache/data8/66d63b0e-14c9-43bf-8e37-30ad8903003a.nc to /Users/JFNeedham/Desktop/CAPE_downloads/data_downloads/2014_10.nc (41.1M)\n",
      "2024-02-20 20:01:13,383 INFO Download rate 1.9M/s                               \n",
      "2024-02-20 20:01:13,573 INFO Welcome to the CDS\n",
      "2024-02-20 20:01:13,575 INFO Sending request to https://cds.climate.copernicus.eu/api/v2/tasks/services/tool/toolbox/orchestrator/workflow/clientid-8a1755826e4e43eabd7139fc0add16c2\n"
     ]
    },
    {
     "name": "stdout",
     "output_type": "stream",
     "text": [
      "2014\n",
      "11\n"
     ]
    },
    {
     "name": "stderr",
     "output_type": "stream",
     "text": [
      "2024-02-20 20:01:13,818 INFO Request is queued\n",
      "2024-02-20 20:01:15,011 INFO Request is running\n",
      "2024-02-20 20:05:34,297 INFO Request is completed\n",
      "2024-02-20 20:05:34,299 INFO Downloading https://download-0012-clone.copernicus-climate.eu/cache-compute-0012/cache/data5/dd780df4-63c9-40fb-b72d-083f5affb65f.nc to /Users/JFNeedham/Desktop/CAPE_downloads/data_downloads/2014_11.nc (39.7M)\n",
      "2024-02-20 20:05:39,631 INFO Download rate 7.5M/s                               \n",
      "2024-02-20 20:05:39,819 INFO Welcome to the CDS\n",
      "2024-02-20 20:05:39,820 INFO Sending request to https://cds.climate.copernicus.eu/api/v2/tasks/services/tool/toolbox/orchestrator/workflow/clientid-8579660a47634f4384ab4914a8e53ee2\n"
     ]
    },
    {
     "name": "stdout",
     "output_type": "stream",
     "text": [
      "2014\n",
      "12\n"
     ]
    },
    {
     "name": "stderr",
     "output_type": "stream",
     "text": [
      "2024-02-20 20:05:40,079 INFO Request is queued\n",
      "2024-02-20 20:05:41,269 INFO Request is running\n",
      "2024-02-20 20:10:00,465 INFO Request is completed\n",
      "2024-02-20 20:10:00,466 INFO Downloading https://download-0008-clone.copernicus-climate.eu/cache-compute-0008/cache/data9/9f373e3a-69ca-455b-af5a-c488e34be4a6.nc to /Users/JFNeedham/Desktop/CAPE_downloads/data_downloads/2014_12.nc (41.1M)\n",
      "2024-02-20 20:10:05,599 INFO Download rate 8M/s                                 \n",
      "2024-02-20 20:10:05,782 INFO Welcome to the CDS\n",
      "2024-02-20 20:10:05,783 INFO Sending request to https://cds.climate.copernicus.eu/api/v2/tasks/services/tool/toolbox/orchestrator/workflow/clientid-f152047ade3d48a9985cf2df31404107\n"
     ]
    },
    {
     "name": "stdout",
     "output_type": "stream",
     "text": [
      "2015\n",
      "01\n"
     ]
    },
    {
     "name": "stderr",
     "output_type": "stream",
     "text": [
      "2024-02-20 20:10:06,036 INFO Request is queued\n",
      "2024-02-20 20:10:07,227 INFO Request is running\n",
      "2024-02-20 20:14:26,431 INFO Request is completed\n",
      "2024-02-20 20:14:26,432 INFO Downloading https://download-0001-clone.copernicus-climate.eu/cache-compute-0001/cache/data0/dff2fd31-57c2-4a57-bacb-4f8b8b3729c0.nc to /Users/JFNeedham/Desktop/CAPE_downloads/data_downloads/2015_01.nc (41.1M)\n",
      "2024-02-20 20:14:31,770 INFO Download rate 7.7M/s                               \n",
      "2024-02-20 20:14:31,961 INFO Welcome to the CDS\n",
      "2024-02-20 20:14:31,962 INFO Sending request to https://cds.climate.copernicus.eu/api/v2/tasks/services/tool/toolbox/orchestrator/workflow/clientid-275c04b55425443e8663f2b9d6c35feb\n"
     ]
    },
    {
     "name": "stdout",
     "output_type": "stream",
     "text": [
      "2015\n",
      "02\n"
     ]
    },
    {
     "name": "stderr",
     "output_type": "stream",
     "text": [
      "2024-02-20 20:14:32,251 INFO Request is queued\n",
      "2024-02-20 20:14:33,454 INFO Request is running\n",
      "2024-02-20 20:18:52,728 INFO Request is completed\n",
      "2024-02-20 20:18:52,730 INFO Downloading https://download-0004-clone.copernicus-climate.eu/cache-compute-0004/cache/data7/3e844154-8df5-4494-8d94-aa61d07018a1.nc to /Users/JFNeedham/Desktop/CAPE_downloads/data_downloads/2015_02.nc (37.1M)\n",
      "2024-02-20 20:18:57,497 INFO Download rate 7.8M/s                               \n",
      "2024-02-20 20:18:57,681 INFO Welcome to the CDS\n",
      "2024-02-20 20:18:57,682 INFO Sending request to https://cds.climate.copernicus.eu/api/v2/tasks/services/tool/toolbox/orchestrator/workflow/clientid-000159b898104f1eb43c78c184fc4a5b\n"
     ]
    },
    {
     "name": "stdout",
     "output_type": "stream",
     "text": [
      "2015\n",
      "03\n"
     ]
    },
    {
     "name": "stderr",
     "output_type": "stream",
     "text": [
      "2024-02-20 20:18:57,942 INFO Request is queued\n",
      "2024-02-20 20:18:59,136 INFO Request is running\n",
      "2024-02-20 20:23:18,345 INFO Request is completed\n",
      "2024-02-20 20:23:18,346 INFO Downloading https://download-0013-clone.copernicus-climate.eu/cache-compute-0013/cache/data7/396cc1b7-e8cc-48cf-87cb-f6243df221db.nc to /Users/JFNeedham/Desktop/CAPE_downloads/data_downloads/2015_03.nc (41.1M)\n",
      "2024-02-20 20:23:24,409 INFO Download rate 6.8M/s                               \n",
      "2024-02-20 20:23:24,594 INFO Welcome to the CDS\n",
      "2024-02-20 20:23:24,595 INFO Sending request to https://cds.climate.copernicus.eu/api/v2/tasks/services/tool/toolbox/orchestrator/workflow/clientid-869561f413414b97ae79f8300daa133e\n"
     ]
    },
    {
     "name": "stdout",
     "output_type": "stream",
     "text": [
      "2015\n",
      "04\n"
     ]
    },
    {
     "name": "stderr",
     "output_type": "stream",
     "text": [
      "2024-02-20 20:23:24,821 INFO Request is queued\n",
      "2024-02-20 20:23:26,017 INFO Request is running\n",
      "2024-02-20 20:27:45,232 INFO Request is completed\n",
      "2024-02-20 20:27:45,233 INFO Downloading https://download-0012-clone.copernicus-climate.eu/cache-compute-0012/cache/data3/ff0af76f-87c1-443f-bf1d-42627b04a41a.nc to /Users/JFNeedham/Desktop/CAPE_downloads/data_downloads/2015_04.nc (39.7M)\n",
      "2024-02-20 20:27:50,987 INFO Download rate 6.9M/s                               \n",
      "2024-02-20 20:27:51,176 INFO Welcome to the CDS\n",
      "2024-02-20 20:27:51,177 INFO Sending request to https://cds.climate.copernicus.eu/api/v2/tasks/services/tool/toolbox/orchestrator/workflow/clientid-be519a34381d418ab258492f67181f72\n"
     ]
    },
    {
     "name": "stdout",
     "output_type": "stream",
     "text": [
      "2015\n",
      "05\n"
     ]
    },
    {
     "name": "stderr",
     "output_type": "stream",
     "text": [
      "2024-02-20 20:27:51,390 INFO Request is queued\n",
      "2024-02-20 20:27:52,584 INFO Request is running\n",
      "2024-02-20 20:32:11,869 INFO Request is completed\n",
      "2024-02-20 20:32:11,870 INFO Downloading https://download-0016.copernicus-climate.eu/cache-compute-0016/cache/data3/f325299b-b9ad-4a16-bc5c-f456902e3aed.nc to /Users/JFNeedham/Desktop/CAPE_downloads/data_downloads/2015_05.nc (41.1M)\n",
      "2024-02-20 20:32:19,153 INFO Download rate 5.6M/s                               \n",
      "2024-02-20 20:32:19,341 INFO Welcome to the CDS\n",
      "2024-02-20 20:32:19,342 INFO Sending request to https://cds.climate.copernicus.eu/api/v2/tasks/services/tool/toolbox/orchestrator/workflow/clientid-c2963c6bc958451ca846c0e2e4f8e86a\n"
     ]
    },
    {
     "name": "stdout",
     "output_type": "stream",
     "text": [
      "2015\n",
      "06\n"
     ]
    },
    {
     "name": "stderr",
     "output_type": "stream",
     "text": [
      "2024-02-20 20:32:19,575 INFO Request is queued\n",
      "2024-02-20 20:32:20,779 INFO Request is running\n",
      "2024-02-20 20:36:40,043 INFO Request is completed\n",
      "2024-02-20 20:36:40,044 INFO Downloading https://download-0016.copernicus-climate.eu/cache-compute-0016/cache/data5/ca9b86e2-9592-4a40-b5c9-54ca94672a17.nc to /Users/JFNeedham/Desktop/CAPE_downloads/data_downloads/2015_06.nc (39.7M)\n",
      "2024-02-20 20:36:45,368 INFO Download rate 7.5M/s                               \n",
      "2024-02-20 20:36:45,556 INFO Welcome to the CDS\n",
      "2024-02-20 20:36:45,558 INFO Sending request to https://cds.climate.copernicus.eu/api/v2/tasks/services/tool/toolbox/orchestrator/workflow/clientid-bde2ff7e75694a76aaf426db00c5ae8f\n"
     ]
    },
    {
     "name": "stdout",
     "output_type": "stream",
     "text": [
      "2015\n",
      "07\n"
     ]
    },
    {
     "name": "stderr",
     "output_type": "stream",
     "text": [
      "2024-02-20 20:36:45,811 INFO Request is queued\n",
      "2024-02-20 20:36:47,010 INFO Request is running\n",
      "2024-02-20 20:45:07,869 INFO Request is completed\n",
      "2024-02-20 20:45:07,870 INFO Downloading https://download-0012-clone.copernicus-climate.eu/cache-compute-0012/cache/data3/0aaefcf0-9ec5-4cef-be01-508f2ac2ec92.nc to /Users/JFNeedham/Desktop/CAPE_downloads/data_downloads/2015_07.nc (41.1M)\n",
      "2024-02-20 20:45:13,741 INFO Download rate 7M/s                                 \n",
      "2024-02-20 20:45:13,937 INFO Welcome to the CDS\n",
      "2024-02-20 20:45:13,938 INFO Sending request to https://cds.climate.copernicus.eu/api/v2/tasks/services/tool/toolbox/orchestrator/workflow/clientid-53088072b4ed474f9ad78f8bc475b65a\n"
     ]
    },
    {
     "name": "stdout",
     "output_type": "stream",
     "text": [
      "2015\n",
      "08\n"
     ]
    },
    {
     "name": "stderr",
     "output_type": "stream",
     "text": [
      "2024-02-20 20:45:14,202 INFO Request is queued\n",
      "2024-02-20 20:45:15,402 INFO Request is running\n",
      "2024-02-20 20:49:34,707 INFO Request is completed\n",
      "2024-02-20 20:49:34,709 INFO Downloading https://download-0002-clone.copernicus-climate.eu/cache-compute-0002/cache/data4/7131b7b2-1a1d-45b6-bbb5-1b13229f79a1.nc to /Users/JFNeedham/Desktop/CAPE_downloads/data_downloads/2015_08.nc (41.1M)\n",
      "2024-02-20 20:49:45,686 INFO Download rate 3.7M/s                               \n",
      "2024-02-20 20:49:45,874 INFO Welcome to the CDS\n",
      "2024-02-20 20:49:45,875 INFO Sending request to https://cds.climate.copernicus.eu/api/v2/tasks/services/tool/toolbox/orchestrator/workflow/clientid-61bb00789ce148d7a9cc349e58f750c0\n"
     ]
    },
    {
     "name": "stdout",
     "output_type": "stream",
     "text": [
      "2015\n",
      "09\n"
     ]
    },
    {
     "name": "stderr",
     "output_type": "stream",
     "text": [
      "2024-02-20 20:49:46,134 INFO Request is queued\n",
      "2024-02-20 20:49:47,339 INFO Request is running\n",
      "2024-02-20 20:54:06,596 INFO Request is completed\n",
      "2024-02-20 20:54:06,597 INFO Downloading https://download-0011-clone.copernicus-climate.eu/cache-compute-0011/cache/data2/0a404482-3111-42b1-9b83-aac651751156.nc to /Users/JFNeedham/Desktop/CAPE_downloads/data_downloads/2015_09.nc (39.7M)\n",
      "2024-02-20 20:54:29,421 INFO Download rate 1.7M/s                               \n",
      "2024-02-20 20:54:29,607 INFO Welcome to the CDS\n",
      "2024-02-20 20:54:29,609 INFO Sending request to https://cds.climate.copernicus.eu/api/v2/tasks/services/tool/toolbox/orchestrator/workflow/clientid-7c06c49e21b94d67b84f1be65127f695\n"
     ]
    },
    {
     "name": "stdout",
     "output_type": "stream",
     "text": [
      "2015\n",
      "10\n"
     ]
    },
    {
     "name": "stderr",
     "output_type": "stream",
     "text": [
      "2024-02-20 20:54:29,820 INFO Request is queued\n",
      "2024-02-20 20:54:31,020 INFO Request is running\n",
      "2024-02-20 20:58:50,243 INFO Request is completed\n",
      "2024-02-20 20:58:50,245 INFO Downloading https://download-0007-clone.copernicus-climate.eu/cache-compute-0007/cache/data6/47cffa17-2e77-4a8a-9840-454fa850f88f.nc to /Users/JFNeedham/Desktop/CAPE_downloads/data_downloads/2015_10.nc (41.1M)\n",
      "2024-02-20 20:59:09,156 INFO Download rate 2.2M/s                               \n",
      "2024-02-20 20:59:09,342 INFO Welcome to the CDS\n",
      "2024-02-20 20:59:09,343 INFO Sending request to https://cds.climate.copernicus.eu/api/v2/tasks/services/tool/toolbox/orchestrator/workflow/clientid-87b6cc4b274047d3bd66ca866bda99a4\n"
     ]
    },
    {
     "name": "stdout",
     "output_type": "stream",
     "text": [
      "2015\n",
      "11\n"
     ]
    },
    {
     "name": "stderr",
     "output_type": "stream",
     "text": [
      "2024-02-20 20:59:09,583 INFO Request is queued\n",
      "2024-02-20 20:59:10,775 INFO Request is running\n",
      "2024-02-20 21:03:30,561 INFO Request is completed\n",
      "2024-02-20 21:03:30,562 INFO Downloading https://download-0017.copernicus-climate.eu/cache-compute-0017/cache/data3/31f19d37-71ed-46d8-b61e-bca6664287b3.nc to /Users/JFNeedham/Desktop/CAPE_downloads/data_downloads/2015_11.nc (39.7M)\n",
      "2024-02-20 21:03:41,105 INFO Download rate 3.8M/s                               \n",
      "2024-02-20 21:03:41,290 INFO Welcome to the CDS\n",
      "2024-02-20 21:03:41,291 INFO Sending request to https://cds.climate.copernicus.eu/api/v2/tasks/services/tool/toolbox/orchestrator/workflow/clientid-a98a6f432ac74953be8cf31859a12cce\n"
     ]
    },
    {
     "name": "stdout",
     "output_type": "stream",
     "text": [
      "2015\n",
      "12\n"
     ]
    },
    {
     "name": "stderr",
     "output_type": "stream",
     "text": [
      "2024-02-20 21:03:41,531 INFO Request is queued\n",
      "2024-02-20 21:03:42,730 INFO Request is running\n",
      "2024-02-20 21:08:01,956 INFO Request is completed\n",
      "2024-02-20 21:08:01,958 INFO Downloading https://download-0008-clone.copernicus-climate.eu/cache-compute-0008/cache/data9/19e5867e-b669-4e90-96a2-2c74e8a97d36.nc to /Users/JFNeedham/Desktop/CAPE_downloads/data_downloads/2015_12.nc (41.1M)\n",
      "2024-02-20 21:08:07,307 INFO Download rate 7.7M/s                               \n",
      "2024-02-20 21:08:07,493 INFO Welcome to the CDS\n",
      "2024-02-20 21:08:07,494 INFO Sending request to https://cds.climate.copernicus.eu/api/v2/tasks/services/tool/toolbox/orchestrator/workflow/clientid-e62750e2f7434227b1bd9f4d9f643282\n"
     ]
    },
    {
     "name": "stdout",
     "output_type": "stream",
     "text": [
      "2016\n",
      "01\n"
     ]
    },
    {
     "name": "stderr",
     "output_type": "stream",
     "text": [
      "2024-02-20 21:08:07,742 INFO Request is queued\n",
      "2024-02-20 21:08:08,942 INFO Request is running\n",
      "2024-02-20 21:12:28,182 INFO Request is completed\n",
      "2024-02-20 21:12:28,184 INFO Downloading https://download-0004-clone.copernicus-climate.eu/cache-compute-0004/cache/data6/79be0824-e282-413b-9b4d-cb69801bd41c.nc to /Users/JFNeedham/Desktop/CAPE_downloads/data_downloads/2016_01.nc (41.1M)\n",
      "2024-02-20 21:12:34,456 INFO Download rate 6.5M/s                               \n",
      "2024-02-20 21:12:34,640 INFO Welcome to the CDS\n",
      "2024-02-20 21:12:34,642 INFO Sending request to https://cds.climate.copernicus.eu/api/v2/tasks/services/tool/toolbox/orchestrator/workflow/clientid-10729ebeffb64c8da2deb7bdc25aa5ad\n"
     ]
    },
    {
     "name": "stdout",
     "output_type": "stream",
     "text": [
      "2016\n",
      "02\n"
     ]
    },
    {
     "name": "stderr",
     "output_type": "stream",
     "text": [
      "2024-02-20 21:12:34,895 INFO Request is queued\n",
      "2024-02-20 21:12:36,086 INFO Request is running\n",
      "2024-02-20 21:15:28,070 INFO Request is completed\n",
      "2024-02-20 21:15:28,072 INFO Downloading https://download-0007-clone.copernicus-climate.eu/cache-compute-0007/cache/data8/1ad1c7cc-2291-4852-8302-92974042bd34.nc to /Users/JFNeedham/Desktop/CAPE_downloads/data_downloads/2016_02.nc (38.4M)\n",
      "2024-02-20 21:15:34,948 INFO Download rate 5.6M/s                               \n",
      "2024-02-20 21:15:35,131 INFO Welcome to the CDS\n",
      "2024-02-20 21:15:35,133 INFO Sending request to https://cds.climate.copernicus.eu/api/v2/tasks/services/tool/toolbox/orchestrator/workflow/clientid-767f666542ed45b99808f73f3d9fe93d\n"
     ]
    },
    {
     "name": "stdout",
     "output_type": "stream",
     "text": [
      "2016\n",
      "03\n"
     ]
    },
    {
     "name": "stderr",
     "output_type": "stream",
     "text": [
      "2024-02-20 21:15:35,383 INFO Request is queued\n",
      "2024-02-20 21:15:36,583 INFO Request is running\n",
      "2024-02-20 21:19:55,811 INFO Request is completed\n",
      "2024-02-20 21:19:55,813 INFO Downloading https://download-0015-clone.copernicus-climate.eu/cache-compute-0015/cache/data7/327c429d-6a93-453f-a618-7363f161d641.nc to /Users/JFNeedham/Desktop/CAPE_downloads/data_downloads/2016_03.nc (41.1M)\n",
      "2024-02-20 21:20:01,533 INFO Download rate 7.2M/s                               \n",
      "2024-02-20 21:20:01,717 INFO Welcome to the CDS\n",
      "2024-02-20 21:20:01,717 INFO Sending request to https://cds.climate.copernicus.eu/api/v2/tasks/services/tool/toolbox/orchestrator/workflow/clientid-d7f07a69622c4a7ebf532bd0dab4963d\n"
     ]
    },
    {
     "name": "stdout",
     "output_type": "stream",
     "text": [
      "2016\n",
      "04\n"
     ]
    },
    {
     "name": "stderr",
     "output_type": "stream",
     "text": [
      "2024-02-20 21:20:01,968 INFO Request is queued\n",
      "2024-02-20 21:20:03,160 INFO Request is running\n",
      "2024-02-20 21:24:22,393 INFO Request is completed\n",
      "2024-02-20 21:24:22,394 INFO Downloading https://download-0015-clone.copernicus-climate.eu/cache-compute-0015/cache/data7/e51d728b-01a5-41b4-867a-139752d979cc.nc to /Users/JFNeedham/Desktop/CAPE_downloads/data_downloads/2016_04.nc (39.7M)\n",
      "2024-02-20 21:24:37,146 INFO Download rate 2.7M/s                               \n",
      "2024-02-20 21:24:37,334 INFO Welcome to the CDS\n",
      "2024-02-20 21:24:37,335 INFO Sending request to https://cds.climate.copernicus.eu/api/v2/tasks/services/tool/toolbox/orchestrator/workflow/clientid-1567116fcaee4625a3a418a313e79786\n"
     ]
    },
    {
     "name": "stdout",
     "output_type": "stream",
     "text": [
      "2016\n",
      "05\n"
     ]
    },
    {
     "name": "stderr",
     "output_type": "stream",
     "text": [
      "2024-02-20 21:24:37,592 INFO Request is queued\n",
      "2024-02-20 21:24:38,798 INFO Request is running\n",
      "2024-02-20 21:28:58,068 INFO Request is completed\n",
      "2024-02-20 21:28:58,070 INFO Downloading https://download-0020.copernicus-climate.eu/cache-compute-0020/cache/data4/30918aa6-20f8-4e16-8535-c56d40b7e04e.nc to /Users/JFNeedham/Desktop/CAPE_downloads/data_downloads/2016_05.nc (41.1M)\n",
      "2024-02-20 21:29:07,209 INFO Download rate 4.5M/s                               \n",
      "2024-02-20 21:29:07,398 INFO Welcome to the CDS\n",
      "2024-02-20 21:29:07,399 INFO Sending request to https://cds.climate.copernicus.eu/api/v2/tasks/services/tool/toolbox/orchestrator/workflow/clientid-505ab4ad20d94f7e8aef012249fbc5c4\n"
     ]
    },
    {
     "name": "stdout",
     "output_type": "stream",
     "text": [
      "2016\n",
      "06\n"
     ]
    },
    {
     "name": "stderr",
     "output_type": "stream",
     "text": [
      "2024-02-20 21:29:07,639 INFO Request is queued\n",
      "2024-02-20 21:29:08,837 INFO Request is running\n",
      "2024-02-20 21:33:28,102 INFO Request is completed\n",
      "2024-02-20 21:33:28,103 INFO Downloading https://download-0012-clone.copernicus-climate.eu/cache-compute-0012/cache/data7/2bbdc148-eff8-4199-bb21-c89cf1692e99.nc to /Users/JFNeedham/Desktop/CAPE_downloads/data_downloads/2016_06.nc (39.7M)\n",
      "2024-02-20 21:33:37,959 INFO Download rate 4M/s                                 \n",
      "2024-02-20 21:33:38,145 INFO Welcome to the CDS\n",
      "2024-02-20 21:33:38,146 INFO Sending request to https://cds.climate.copernicus.eu/api/v2/tasks/services/tool/toolbox/orchestrator/workflow/clientid-0441ff3c3c144b9dbf433f2ce5eaa817\n"
     ]
    },
    {
     "name": "stdout",
     "output_type": "stream",
     "text": [
      "2016\n",
      "07\n"
     ]
    },
    {
     "name": "stderr",
     "output_type": "stream",
     "text": [
      "2024-02-20 21:33:38,413 INFO Request is queued\n",
      "2024-02-20 21:33:39,620 INFO Request is running\n",
      "2024-02-20 21:37:58,845 INFO Request is completed\n",
      "2024-02-20 21:37:58,846 INFO Downloading https://download-0003-clone.copernicus-climate.eu/cache-compute-0003/cache/data4/63748c88-902c-4c84-b671-e46f29400081.nc to /Users/JFNeedham/Desktop/CAPE_downloads/data_downloads/2016_07.nc (41.1M)\n",
      "2024-02-20 21:38:44,507 INFO Download rate 921K/s                               \n",
      "2024-02-20 21:38:44,694 INFO Welcome to the CDS\n",
      "2024-02-20 21:38:44,695 INFO Sending request to https://cds.climate.copernicus.eu/api/v2/tasks/services/tool/toolbox/orchestrator/workflow/clientid-ba18edca78b14cf0b8462b7f93417f18\n"
     ]
    },
    {
     "name": "stdout",
     "output_type": "stream",
     "text": [
      "2016\n",
      "08\n"
     ]
    },
    {
     "name": "stderr",
     "output_type": "stream",
     "text": [
      "2024-02-20 21:38:44,993 INFO Request is queued\n",
      "2024-02-20 21:38:46,192 INFO Request is running\n",
      "2024-02-20 21:43:05,904 INFO Request is completed\n",
      "2024-02-20 21:43:05,905 INFO Downloading https://download-0005-clone.copernicus-climate.eu/cache-compute-0005/cache/data8/76521bb6-6bb0-40ad-a707-eb890fcb971b.nc to /Users/JFNeedham/Desktop/CAPE_downloads/data_downloads/2016_08.nc (41.1M)\n",
      "2024-02-20 21:43:52,394 INFO Download rate 904.6K/s                             \n",
      "2024-02-20 21:43:52,580 INFO Welcome to the CDS\n",
      "2024-02-20 21:43:52,581 INFO Sending request to https://cds.climate.copernicus.eu/api/v2/tasks/services/tool/toolbox/orchestrator/workflow/clientid-677dd95d3dfa434fb17873296ca2c0ac\n"
     ]
    },
    {
     "name": "stdout",
     "output_type": "stream",
     "text": [
      "2016\n",
      "09\n"
     ]
    },
    {
     "name": "stderr",
     "output_type": "stream",
     "text": [
      "2024-02-20 21:43:52,837 INFO Request is queued\n",
      "2024-02-20 21:43:54,026 INFO Request is running\n",
      "2024-02-20 21:48:13,262 INFO Request is completed\n",
      "2024-02-20 21:48:13,263 INFO Downloading https://download-0004-clone.copernicus-climate.eu/cache-compute-0004/cache/data7/099fa577-56f7-4d39-94ea-76cfc871b6e7.nc to /Users/JFNeedham/Desktop/CAPE_downloads/data_downloads/2016_09.nc (39.7M)\n",
      "2024-02-20 21:48:19,850 INFO Download rate 6M/s                                 \n",
      "2024-02-20 21:48:20,039 INFO Welcome to the CDS\n",
      "2024-02-20 21:48:20,040 INFO Sending request to https://cds.climate.copernicus.eu/api/v2/tasks/services/tool/toolbox/orchestrator/workflow/clientid-b2dc7f03a2ce4c8197d702f9a01c2344\n"
     ]
    },
    {
     "name": "stdout",
     "output_type": "stream",
     "text": [
      "2016\n",
      "10\n"
     ]
    },
    {
     "name": "stderr",
     "output_type": "stream",
     "text": [
      "2024-02-20 21:48:20,314 INFO Request is queued\n",
      "2024-02-20 21:48:21,512 INFO Request is running\n",
      "2024-02-20 21:52:40,831 INFO Request is completed\n",
      "2024-02-20 21:52:40,833 INFO Downloading https://download-0015-clone.copernicus-climate.eu/cache-compute-0015/cache/data7/c0e94f54-778a-4a2f-8681-166347b2c48a.nc to /Users/JFNeedham/Desktop/CAPE_downloads/data_downloads/2016_10.nc (41.1M)\n",
      "2024-02-20 21:52:46,271 INFO Download rate 7.6M/s                               \n",
      "2024-02-20 21:52:46,458 INFO Welcome to the CDS\n",
      "2024-02-20 21:52:46,460 INFO Sending request to https://cds.climate.copernicus.eu/api/v2/tasks/services/tool/toolbox/orchestrator/workflow/clientid-bf894dafbca54c96ba69ea02604e9280\n"
     ]
    },
    {
     "name": "stdout",
     "output_type": "stream",
     "text": [
      "2016\n",
      "11\n"
     ]
    },
    {
     "name": "stderr",
     "output_type": "stream",
     "text": [
      "2024-02-20 21:52:46,704 INFO Request is queued\n",
      "2024-02-20 21:52:47,905 INFO Request is running\n",
      "2024-02-20 21:57:07,179 INFO Request is completed\n",
      "2024-02-20 21:57:07,180 INFO Downloading https://download-0009-clone.copernicus-climate.eu/cache-compute-0009/cache/data9/b12369e3-e012-4840-bcf6-d6d34a1ad711.nc to /Users/JFNeedham/Desktop/CAPE_downloads/data_downloads/2016_11.nc (39.7M)\n",
      "2024-02-20 21:57:12,970 INFO Download rate 6.9M/s                               \n",
      "2024-02-20 21:57:13,158 INFO Welcome to the CDS\n",
      "2024-02-20 21:57:13,158 INFO Sending request to https://cds.climate.copernicus.eu/api/v2/tasks/services/tool/toolbox/orchestrator/workflow/clientid-5872ebf5919d4c52a96194910beba40f\n"
     ]
    },
    {
     "name": "stdout",
     "output_type": "stream",
     "text": [
      "2016\n",
      "12\n"
     ]
    },
    {
     "name": "stderr",
     "output_type": "stream",
     "text": [
      "2024-02-20 21:57:13,405 INFO Request is queued\n",
      "2024-02-20 21:57:14,609 INFO Request is running\n",
      "2024-02-20 22:01:33,863 INFO Request is completed\n",
      "2024-02-20 22:01:33,864 INFO Downloading https://download-0006-clone.copernicus-climate.eu/cache-compute-0006/cache/data9/ac7eea91-5fe1-4e8c-ad82-4f77645ab6af.nc to /Users/JFNeedham/Desktop/CAPE_downloads/data_downloads/2016_12.nc (41.1M)\n",
      "2024-02-20 22:02:45,309 INFO Download rate 588.6K/s                             \n"
     ]
    },
    {
     "name": "stdout",
     "output_type": "stream",
     "text": [
      "2017\n",
      "01\n"
     ]
    },
    {
     "name": "stderr",
     "output_type": "stream",
     "text": [
      "2024-02-20 22:02:46,065 INFO Welcome to the CDS\n",
      "2024-02-20 22:02:46,066 INFO Sending request to https://cds.climate.copernicus.eu/api/v2/tasks/services/tool/toolbox/orchestrator/workflow/clientid-53c83bd5682c4d7faa73cf808f8f81f7\n",
      "2024-02-20 22:02:46,304 INFO Request is queued\n",
      "2024-02-20 22:02:47,501 INFO Request is running\n",
      "2024-02-20 22:07:06,767 INFO Request is completed\n",
      "2024-02-20 22:07:06,769 INFO Downloading https://download-0015-clone.copernicus-climate.eu/cache-compute-0015/cache/data2/dcc9ab54-72c2-42d3-a0e7-8b330b587144.nc to /Users/JFNeedham/Desktop/CAPE_downloads/data_downloads/2017_01.nc (41.1M)\n",
      "2024-02-20 22:07:12,539 INFO Download rate 7.1M/s                               \n",
      "2024-02-20 22:07:12,721 INFO Welcome to the CDS\n",
      "2024-02-20 22:07:12,722 INFO Sending request to https://cds.climate.copernicus.eu/api/v2/tasks/services/tool/toolbox/orchestrator/workflow/clientid-c85961b5a03d413eb7698d8f64fd725a\n"
     ]
    },
    {
     "name": "stdout",
     "output_type": "stream",
     "text": [
      "2017\n",
      "02\n"
     ]
    },
    {
     "name": "stderr",
     "output_type": "stream",
     "text": [
      "2024-02-20 22:07:12,981 INFO Request is queued\n",
      "2024-02-20 22:07:14,186 INFO Request is running\n",
      "2024-02-20 22:10:06,140 INFO Request is completed\n",
      "2024-02-20 22:10:06,141 INFO Downloading https://download-0008-clone.copernicus-climate.eu/cache-compute-0008/cache/data2/c883d628-da26-4d51-909e-03d23aa23e16.nc to /Users/JFNeedham/Desktop/CAPE_downloads/data_downloads/2017_02.nc (37.1M)\n",
      "2024-02-20 22:10:47,709 INFO Download rate 913.8K/s                             \n",
      "2024-02-20 22:10:47,897 INFO Welcome to the CDS\n",
      "2024-02-20 22:10:47,898 INFO Sending request to https://cds.climate.copernicus.eu/api/v2/tasks/services/tool/toolbox/orchestrator/workflow/clientid-0978f7dc96e4472ab7727709f214e741\n"
     ]
    },
    {
     "name": "stdout",
     "output_type": "stream",
     "text": [
      "2017\n",
      "03\n"
     ]
    },
    {
     "name": "stderr",
     "output_type": "stream",
     "text": [
      "2024-02-20 22:10:48,165 INFO Request is queued\n",
      "2024-02-20 22:10:49,364 INFO Request is running\n",
      "2024-02-20 22:15:08,563 INFO Request is completed\n",
      "2024-02-20 22:15:08,564 INFO Downloading https://download-0006-clone.copernicus-climate.eu/cache-compute-0006/cache/data9/da27a015-987a-4712-813e-82691ce27c6a.nc to /Users/JFNeedham/Desktop/CAPE_downloads/data_downloads/2017_03.nc (41.1M)\n",
      "2024-02-20 22:15:21,542 INFO Download rate 3.2M/s                               \n",
      "2024-02-20 22:15:21,726 INFO Welcome to the CDS\n",
      "2024-02-20 22:15:21,727 INFO Sending request to https://cds.climate.copernicus.eu/api/v2/tasks/services/tool/toolbox/orchestrator/workflow/clientid-fa15e5a4b3484c1f96576e63ec60e66b\n"
     ]
    },
    {
     "name": "stdout",
     "output_type": "stream",
     "text": [
      "2017\n",
      "04\n"
     ]
    },
    {
     "name": "stderr",
     "output_type": "stream",
     "text": [
      "2024-02-20 22:15:22,022 INFO Request is queued\n",
      "2024-02-20 22:15:23,228 INFO Request is running\n",
      "2024-02-20 22:19:42,455 INFO Request is completed\n",
      "2024-02-20 22:19:42,457 INFO Downloading https://download-0017.copernicus-climate.eu/cache-compute-0017/cache/data5/3ea1c693-649f-4f47-9f6a-2251b957d947.nc to /Users/JFNeedham/Desktop/CAPE_downloads/data_downloads/2017_04.nc (39.7M)\n",
      "2024-02-20 22:19:54,646 INFO Download rate 3.3M/s                               \n",
      "2024-02-20 22:19:54,836 INFO Welcome to the CDS\n",
      "2024-02-20 22:19:54,837 INFO Sending request to https://cds.climate.copernicus.eu/api/v2/tasks/services/tool/toolbox/orchestrator/workflow/clientid-abad00a1e537472881e55e0bc07b994b\n"
     ]
    },
    {
     "name": "stdout",
     "output_type": "stream",
     "text": [
      "2017\n",
      "05\n"
     ]
    },
    {
     "name": "stderr",
     "output_type": "stream",
     "text": [
      "2024-02-20 22:19:55,099 INFO Request is queued\n",
      "2024-02-20 22:19:56,302 INFO Request is running\n",
      "2024-02-20 22:24:15,557 INFO Request is completed\n",
      "2024-02-20 22:24:15,558 INFO Downloading https://download-0003-clone.copernicus-climate.eu/cache-compute-0003/cache/data9/bf6732c6-11ca-4608-bf8e-c6328b16b713.nc to /Users/JFNeedham/Desktop/CAPE_downloads/data_downloads/2017_05.nc (41.1M)\n",
      "2024-02-20 22:24:35,605 INFO Download rate 2M/s                                 \n",
      "2024-02-20 22:24:35,792 INFO Welcome to the CDS\n",
      "2024-02-20 22:24:35,793 INFO Sending request to https://cds.climate.copernicus.eu/api/v2/tasks/services/tool/toolbox/orchestrator/workflow/clientid-8a3a8adeb0d247af87baa3d7cf13b980\n"
     ]
    },
    {
     "name": "stdout",
     "output_type": "stream",
     "text": [
      "2017\n",
      "06\n"
     ]
    },
    {
     "name": "stderr",
     "output_type": "stream",
     "text": [
      "2024-02-20 22:24:36,121 INFO Request is queued\n",
      "2024-02-20 22:24:37,323 INFO Request is running\n",
      "2024-02-20 22:28:56,562 INFO Request is completed\n",
      "2024-02-20 22:28:56,563 INFO Downloading https://download-0006-clone.copernicus-climate.eu/cache-compute-0006/cache/data4/089a6f4c-6bcd-41bc-9f8b-09e45cd06061.nc to /Users/JFNeedham/Desktop/CAPE_downloads/data_downloads/2017_06.nc (39.7M)\n",
      "2024-02-20 22:29:02,046 INFO Download rate 7.3M/s                               \n",
      "2024-02-20 22:29:02,232 INFO Welcome to the CDS\n",
      "2024-02-20 22:29:02,233 INFO Sending request to https://cds.climate.copernicus.eu/api/v2/tasks/services/tool/toolbox/orchestrator/workflow/clientid-431a8c84b6884a1ba06202706bd793b3\n"
     ]
    },
    {
     "name": "stdout",
     "output_type": "stream",
     "text": [
      "2017\n",
      "07\n"
     ]
    },
    {
     "name": "stderr",
     "output_type": "stream",
     "text": [
      "2024-02-20 22:29:02,488 INFO Request is queued\n",
      "2024-02-20 22:29:03,681 INFO Request is running\n",
      "2024-02-20 22:33:22,961 INFO Request is completed\n",
      "2024-02-20 22:33:22,962 INFO Downloading https://download-0002-clone.copernicus-climate.eu/cache-compute-0002/cache/data4/b840efab-a8c0-4b3e-8d10-7805c3e66d9c.nc to /Users/JFNeedham/Desktop/CAPE_downloads/data_downloads/2017_07.nc (41.1M)\n",
      "2024-02-20 22:33:32,639 INFO Download rate 4.2M/s                               \n",
      "2024-02-20 22:33:32,828 INFO Welcome to the CDS\n",
      "2024-02-20 22:33:32,829 INFO Sending request to https://cds.climate.copernicus.eu/api/v2/tasks/services/tool/toolbox/orchestrator/workflow/clientid-484f415b73a043498f151c687de323bd\n"
     ]
    },
    {
     "name": "stdout",
     "output_type": "stream",
     "text": [
      "2017\n",
      "08\n"
     ]
    },
    {
     "name": "stderr",
     "output_type": "stream",
     "text": [
      "2024-02-20 22:33:33,145 INFO Request is queued\n",
      "2024-02-20 22:33:34,353 INFO Request is running\n",
      "2024-02-20 22:37:53,587 INFO Request is completed\n",
      "2024-02-20 22:37:53,587 INFO Downloading https://download-0001-clone.copernicus-climate.eu/cache-compute-0001/cache/data6/314803f6-5d30-41a2-8a13-f7abc44bfd90.nc to /Users/JFNeedham/Desktop/CAPE_downloads/data_downloads/2017_08.nc (41.1M)\n",
      "2024-02-20 22:38:00,343 INFO Download rate 6.1M/s                               \n",
      "2024-02-20 22:38:00,528 INFO Welcome to the CDS\n",
      "2024-02-20 22:38:00,529 INFO Sending request to https://cds.climate.copernicus.eu/api/v2/tasks/services/tool/toolbox/orchestrator/workflow/clientid-6d4ab5b2ed574f45b974e1b14c3942ff\n"
     ]
    },
    {
     "name": "stdout",
     "output_type": "stream",
     "text": [
      "2017\n",
      "09\n"
     ]
    },
    {
     "name": "stderr",
     "output_type": "stream",
     "text": [
      "2024-02-20 22:38:00,811 INFO Request is queued\n",
      "2024-02-20 22:38:02,004 INFO Request is running\n",
      "2024-02-20 22:42:21,215 INFO Request is completed\n",
      "2024-02-20 22:42:21,215 INFO Downloading https://download-0004-clone.copernicus-climate.eu/cache-compute-0004/cache/data7/725de79f-b42e-4a59-b2e3-a0dd7d35c9e2.nc to /Users/JFNeedham/Desktop/CAPE_downloads/data_downloads/2017_09.nc (39.7M)\n",
      "2024-02-20 22:44:43,834 INFO Download rate 285.4K/s                             \n"
     ]
    },
    {
     "name": "stdout",
     "output_type": "stream",
     "text": [
      "2017\n",
      "10\n"
     ]
    },
    {
     "name": "stderr",
     "output_type": "stream",
     "text": [
      "2024-02-20 22:44:44,598 INFO Welcome to the CDS\n",
      "2024-02-20 22:44:44,599 INFO Sending request to https://cds.climate.copernicus.eu/api/v2/tasks/services/tool/toolbox/orchestrator/workflow/clientid-a310e250f6ec4bc5bdf016bc4c66391b\n",
      "2024-02-20 22:44:44,850 INFO Request is queued\n",
      "2024-02-20 22:44:46,063 INFO Request is running\n",
      "2024-02-20 22:49:05,301 INFO Request is completed\n",
      "2024-02-20 22:49:05,303 INFO Downloading https://download-0015-clone.copernicus-climate.eu/cache-compute-0015/cache/data3/8aff15eb-de1a-405e-ba78-e8cb35720ad4.nc to /Users/JFNeedham/Desktop/CAPE_downloads/data_downloads/2017_10.nc (41.1M)\n",
      "2024-02-20 22:49:11,422 INFO Download rate 6.7M/s                               \n",
      "2024-02-20 22:49:11,608 INFO Welcome to the CDS\n",
      "2024-02-20 22:49:11,610 INFO Sending request to https://cds.climate.copernicus.eu/api/v2/tasks/services/tool/toolbox/orchestrator/workflow/clientid-e0a0a2c8eb8243eca0240588dd8ab9d0\n"
     ]
    },
    {
     "name": "stdout",
     "output_type": "stream",
     "text": [
      "2017\n",
      "11\n"
     ]
    },
    {
     "name": "stderr",
     "output_type": "stream",
     "text": [
      "2024-02-20 22:49:11,883 INFO Request is queued\n",
      "2024-02-20 22:49:13,084 INFO Request is running\n",
      "2024-02-20 22:53:32,305 INFO Request is completed\n",
      "2024-02-20 22:53:32,306 INFO Downloading https://download-0010-clone.copernicus-climate.eu/cache-compute-0010/cache/data1/d58b8d45-4a4b-4792-b39c-e9c5b4c6ba08.nc to /Users/JFNeedham/Desktop/CAPE_downloads/data_downloads/2017_11.nc (39.7M)\n",
      "2024-02-20 22:53:37,960 INFO Download rate 7M/s                                 \n",
      "2024-02-20 22:53:38,150 INFO Welcome to the CDS\n",
      "2024-02-20 22:53:38,152 INFO Sending request to https://cds.climate.copernicus.eu/api/v2/tasks/services/tool/toolbox/orchestrator/workflow/clientid-5bd722cf2a14436380f9e5cc3e2b7b4a\n"
     ]
    },
    {
     "name": "stdout",
     "output_type": "stream",
     "text": [
      "2017\n",
      "12\n"
     ]
    },
    {
     "name": "stderr",
     "output_type": "stream",
     "text": [
      "2024-02-20 22:53:38,413 INFO Request is queued\n",
      "2024-02-20 22:53:39,614 INFO Request is running\n",
      "2024-02-20 22:57:58,882 INFO Request is completed\n",
      "2024-02-20 22:57:58,883 INFO Downloading https://download-0009-clone.copernicus-climate.eu/cache-compute-0009/cache/data4/560491c2-9af9-4558-b986-1e7f47762e32.nc to /Users/JFNeedham/Desktop/CAPE_downloads/data_downloads/2017_12.nc (41.1M)\n",
      "2024-02-20 22:58:40,062 INFO Download rate 1021.3K/s                            \n",
      "2024-02-20 22:58:40,248 INFO Welcome to the CDS\n",
      "2024-02-20 22:58:40,250 INFO Sending request to https://cds.climate.copernicus.eu/api/v2/tasks/services/tool/toolbox/orchestrator/workflow/clientid-a6c86288b260413380d67831e332c261\n"
     ]
    },
    {
     "name": "stdout",
     "output_type": "stream",
     "text": [
      "2018\n",
      "01\n"
     ]
    },
    {
     "name": "stderr",
     "output_type": "stream",
     "text": [
      "2024-02-20 22:58:40,642 INFO Downloading https://download-0010-clone.copernicus-climate.eu/cache-compute-0010/cache/data1/42e772fa-fcc8-453d-94a4-d21dab9f9f89.nc to /Users/JFNeedham/Desktop/CAPE_downloads/data_downloads/2018_01.nc (41.1M)\n",
      "2024-02-20 22:59:14,591 INFO Download rate 1.2M/s                               \n",
      "2024-02-20 22:59:14,779 INFO Welcome to the CDS\n",
      "2024-02-20 22:59:14,780 INFO Sending request to https://cds.climate.copernicus.eu/api/v2/tasks/services/tool/toolbox/orchestrator/workflow/clientid-bce6713972d54a33b5c2843a43b2cd1a\n"
     ]
    },
    {
     "name": "stdout",
     "output_type": "stream",
     "text": [
      "2018\n",
      "02\n"
     ]
    },
    {
     "name": "stderr",
     "output_type": "stream",
     "text": [
      "2024-02-20 22:59:15,128 INFO Downloading https://download-0005-clone.copernicus-climate.eu/cache-compute-0005/cache/data5/68e056c8-5b87-47e5-badf-3da0a559c448.nc to /Users/JFNeedham/Desktop/CAPE_downloads/data_downloads/2018_02.nc (37.1M)\n",
      "2024-02-20 22:59:20,605 INFO Download rate 6.8M/s                               \n",
      "2024-02-20 22:59:20,789 INFO Welcome to the CDS\n",
      "2024-02-20 22:59:20,790 INFO Sending request to https://cds.climate.copernicus.eu/api/v2/tasks/services/tool/toolbox/orchestrator/workflow/clientid-10504f34c1774b09983af0f70cb53e92\n"
     ]
    },
    {
     "name": "stdout",
     "output_type": "stream",
     "text": [
      "2018\n",
      "03\n"
     ]
    },
    {
     "name": "stderr",
     "output_type": "stream",
     "text": [
      "2024-02-20 22:59:21,220 INFO Downloading https://download-0014-clone.copernicus-climate.eu/cache-compute-0014/cache/data6/c3c6fcd9-c4c4-4ae8-a717-176aa8c486d3.nc to /Users/JFNeedham/Desktop/CAPE_downloads/data_downloads/2018_03.nc (41.1M)\n",
      "2024-02-20 22:59:27,375 INFO Download rate 6.7M/s                               \n",
      "2024-02-20 22:59:27,557 INFO Welcome to the CDS\n",
      "2024-02-20 22:59:27,558 INFO Sending request to https://cds.climate.copernicus.eu/api/v2/tasks/services/tool/toolbox/orchestrator/workflow/clientid-c20d2110f071497cb2a6e4784bbe2944\n"
     ]
    },
    {
     "name": "stdout",
     "output_type": "stream",
     "text": [
      "2018\n",
      "04\n"
     ]
    },
    {
     "name": "stderr",
     "output_type": "stream",
     "text": [
      "2024-02-20 22:59:27,816 INFO Request is queued\n",
      "2024-02-20 22:59:29,015 INFO Request is running\n",
      "2024-02-20 23:03:48,247 INFO Request is completed\n",
      "2024-02-20 23:03:48,249 INFO Downloading https://download-0019.copernicus-climate.eu/cache-compute-0019/cache/data9/a436a87d-00e4-4495-8ce2-8f3de669763a.nc to /Users/JFNeedham/Desktop/CAPE_downloads/data_downloads/2018_04.nc (39.7M)\n",
      "2024-02-20 23:03:53,379 INFO Download rate 7.7M/s                               \n",
      "2024-02-20 23:03:53,563 INFO Welcome to the CDS\n",
      "2024-02-20 23:03:53,564 INFO Sending request to https://cds.climate.copernicus.eu/api/v2/tasks/services/tool/toolbox/orchestrator/workflow/clientid-97a42d98046140bf88e03f747d8c4ca9\n"
     ]
    },
    {
     "name": "stdout",
     "output_type": "stream",
     "text": [
      "2018\n",
      "05\n"
     ]
    },
    {
     "name": "stderr",
     "output_type": "stream",
     "text": [
      "2024-02-20 23:03:53,832 INFO Request is queued\n",
      "2024-02-20 23:03:55,021 INFO Request is running\n",
      "2024-02-20 23:08:14,186 INFO Request is completed\n",
      "2024-02-20 23:08:14,186 INFO Downloading https://download-0019.copernicus-climate.eu/cache-compute-0019/cache/data8/33a2e567-a2a9-4c04-b937-965062b5e035.nc to /Users/JFNeedham/Desktop/CAPE_downloads/data_downloads/2018_05.nc (41.1M)\n",
      "2024-02-20 23:08:19,409 INFO Download rate 7.9M/s                               \n",
      "2024-02-20 23:08:19,594 INFO Welcome to the CDS\n",
      "2024-02-20 23:08:19,595 INFO Sending request to https://cds.climate.copernicus.eu/api/v2/tasks/services/tool/toolbox/orchestrator/workflow/clientid-6ffb0a0274014e74a2eea25b2e95ee65\n"
     ]
    },
    {
     "name": "stdout",
     "output_type": "stream",
     "text": [
      "2018\n",
      "06\n"
     ]
    },
    {
     "name": "stderr",
     "output_type": "stream",
     "text": [
      "2024-02-20 23:08:19,832 INFO Request is queued\n",
      "2024-02-20 23:08:21,025 INFO Request is running\n",
      "2024-02-20 23:11:12,966 INFO Request is completed\n",
      "2024-02-20 23:11:12,967 INFO Downloading https://download-0017.copernicus-climate.eu/cache-compute-0017/cache/data4/87f8745e-b9c7-4736-b399-1529f8419c3f.nc to /Users/JFNeedham/Desktop/CAPE_downloads/data_downloads/2018_06.nc (39.7M)\n",
      "2024-02-20 23:11:20,236 INFO Download rate 5.5M/s                               \n",
      "2024-02-20 23:11:20,419 INFO Welcome to the CDS\n",
      "2024-02-20 23:11:20,420 INFO Sending request to https://cds.climate.copernicus.eu/api/v2/tasks/services/tool/toolbox/orchestrator/workflow/clientid-6fad7fc9cf6445bbb253c28aafaf5950\n"
     ]
    },
    {
     "name": "stdout",
     "output_type": "stream",
     "text": [
      "2018\n",
      "07\n"
     ]
    },
    {
     "name": "stderr",
     "output_type": "stream",
     "text": [
      "2024-02-20 23:11:20,665 INFO Request is queued\n",
      "2024-02-20 23:11:21,858 INFO Request is running\n",
      "2024-02-20 23:21:43,399 INFO Request is completed\n",
      "2024-02-20 23:21:43,400 INFO Downloading https://download-0005-clone.copernicus-climate.eu/cache-compute-0005/cache/data8/b93d8113-5efe-483f-9e27-74c3ab3608da.nc to /Users/JFNeedham/Desktop/CAPE_downloads/data_downloads/2018_07.nc (41.1M)\n",
      "2024-02-20 23:21:53,098 INFO Download rate 4.2M/s                               \n",
      "2024-02-20 23:21:53,286 INFO Welcome to the CDS\n",
      "2024-02-20 23:21:53,288 INFO Sending request to https://cds.climate.copernicus.eu/api/v2/tasks/services/tool/toolbox/orchestrator/workflow/clientid-4122802cb72a4361ab4ec80612ee4671\n"
     ]
    },
    {
     "name": "stdout",
     "output_type": "stream",
     "text": [
      "2018\n",
      "08\n"
     ]
    },
    {
     "name": "stderr",
     "output_type": "stream",
     "text": [
      "2024-02-20 23:21:53,549 INFO Request is queued\n",
      "2024-02-20 23:21:54,749 INFO Request is running\n",
      "2024-02-20 23:26:14,026 INFO Request is completed\n",
      "2024-02-20 23:26:14,028 INFO Downloading https://download-0006-clone.copernicus-climate.eu/cache-compute-0006/cache/data5/111c434f-c10a-4429-9296-eeb921f3b86b.nc to /Users/JFNeedham/Desktop/CAPE_downloads/data_downloads/2018_08.nc (41.1M)\n",
      "2024-02-20 23:26:19,834 INFO Download rate 7.1M/s                               \n",
      "2024-02-20 23:26:20,021 INFO Welcome to the CDS\n",
      "2024-02-20 23:26:20,023 INFO Sending request to https://cds.climate.copernicus.eu/api/v2/tasks/services/tool/toolbox/orchestrator/workflow/clientid-62af7e7be05547608019c84dff0774ba\n"
     ]
    },
    {
     "name": "stdout",
     "output_type": "stream",
     "text": [
      "2018\n",
      "09\n"
     ]
    },
    {
     "name": "stderr",
     "output_type": "stream",
     "text": [
      "2024-02-20 23:26:20,264 INFO Request is queued\n",
      "2024-02-20 23:26:21,463 INFO Request is running\n",
      "2024-02-20 23:29:13,448 INFO Request is completed\n",
      "2024-02-20 23:29:13,449 INFO Downloading https://download-0004-clone.copernicus-climate.eu/cache-compute-0004/cache/data3/535a19f2-fd3f-4825-a8ee-059834cb0c29.nc to /Users/JFNeedham/Desktop/CAPE_downloads/data_downloads/2018_09.nc (39.7M)\n",
      "2024-02-20 23:29:18,507 INFO Download rate 7.9M/s                               \n",
      "2024-02-20 23:29:18,694 INFO Welcome to the CDS\n",
      "2024-02-20 23:29:18,694 INFO Sending request to https://cds.climate.copernicus.eu/api/v2/tasks/services/tool/toolbox/orchestrator/workflow/clientid-a991f7e78a694526b7cde1595eb7ac8f\n"
     ]
    },
    {
     "name": "stdout",
     "output_type": "stream",
     "text": [
      "2018\n",
      "10\n"
     ]
    },
    {
     "name": "stderr",
     "output_type": "stream",
     "text": [
      "2024-02-20 23:29:18,961 INFO Request is queued\n",
      "2024-02-20 23:29:20,161 INFO Request is running\n",
      "2024-02-20 23:33:39,398 INFO Request is completed\n",
      "2024-02-20 23:33:39,400 INFO Downloading https://download-0015-clone.copernicus-climate.eu/cache-compute-0015/cache/data7/25ccbdc9-8c50-4553-b577-0443dcf353ae.nc to /Users/JFNeedham/Desktop/CAPE_downloads/data_downloads/2018_10.nc (41.1M)\n",
      "2024-02-20 23:33:46,149 INFO Download rate 6.1M/s                               \n",
      "2024-02-20 23:33:46,338 INFO Welcome to the CDS\n",
      "2024-02-20 23:33:46,339 INFO Sending request to https://cds.climate.copernicus.eu/api/v2/tasks/services/tool/toolbox/orchestrator/workflow/clientid-5ebf606162f9409386ca1a58bdbd403c\n"
     ]
    },
    {
     "name": "stdout",
     "output_type": "stream",
     "text": [
      "2018\n",
      "11\n"
     ]
    },
    {
     "name": "stderr",
     "output_type": "stream",
     "text": [
      "2024-02-20 23:33:46,707 INFO Request is queued\n",
      "2024-02-20 23:33:47,905 INFO Request is running\n",
      "2024-02-20 23:38:07,246 INFO Request is completed\n",
      "2024-02-20 23:38:07,247 INFO Downloading https://download-0019.copernicus-climate.eu/cache-compute-0019/cache/data8/5756fcea-8474-4f80-859e-a41115e5e0d3.nc to /Users/JFNeedham/Desktop/CAPE_downloads/data_downloads/2018_11.nc (39.7M)\n",
      "2024-02-20 23:38:12,303 INFO Download rate 7.9M/s                               \n",
      "2024-02-20 23:38:12,485 INFO Welcome to the CDS\n",
      "2024-02-20 23:38:12,486 INFO Sending request to https://cds.climate.copernicus.eu/api/v2/tasks/services/tool/toolbox/orchestrator/workflow/clientid-30befb64ebd74bf883d8e05329ea5dae\n"
     ]
    },
    {
     "name": "stdout",
     "output_type": "stream",
     "text": [
      "2018\n",
      "12\n"
     ]
    },
    {
     "name": "stderr",
     "output_type": "stream",
     "text": [
      "2024-02-20 23:38:12,749 INFO Request is queued\n",
      "2024-02-20 23:38:13,945 INFO Request is running\n",
      "2024-02-20 23:41:05,907 INFO Request is completed\n",
      "2024-02-20 23:41:05,907 INFO Downloading https://download-0003-clone.copernicus-climate.eu/cache-compute-0003/cache/data9/5b48d798-f79f-4d85-bb36-ded487f8a1c1.nc to /Users/JFNeedham/Desktop/CAPE_downloads/data_downloads/2018_12.nc (41.1M)\n",
      "2024-02-20 23:41:11,330 INFO Download rate 7.6M/s                               \n",
      "2024-02-20 23:41:11,513 INFO Welcome to the CDS\n",
      "2024-02-20 23:41:11,514 INFO Sending request to https://cds.climate.copernicus.eu/api/v2/tasks/services/tool/toolbox/orchestrator/workflow/clientid-c457f2898e7649e1bdefcfa25d3ea6a5\n"
     ]
    },
    {
     "name": "stdout",
     "output_type": "stream",
     "text": [
      "2019\n",
      "01\n"
     ]
    },
    {
     "name": "stderr",
     "output_type": "stream",
     "text": [
      "2024-02-20 23:41:11,909 INFO Downloading https://download-0017.copernicus-climate.eu/cache-compute-0017/cache/data5/6e200303-373b-4b0b-958f-abff74f3306c.nc to /Users/JFNeedham/Desktop/CAPE_downloads/data_downloads/2019_01.nc (41.1M)\n",
      "2024-02-20 23:41:53,564 INFO Download rate 1009.6K/s                            \n",
      "2024-02-20 23:41:53,749 INFO Welcome to the CDS\n",
      "2024-02-20 23:41:53,750 INFO Sending request to https://cds.climate.copernicus.eu/api/v2/tasks/services/tool/toolbox/orchestrator/workflow/clientid-b81a023eb21d4bd58dd02b5460dafc60\n"
     ]
    },
    {
     "name": "stdout",
     "output_type": "stream",
     "text": [
      "2019\n",
      "02\n"
     ]
    },
    {
     "name": "stderr",
     "output_type": "stream",
     "text": [
      "2024-02-20 23:41:54,093 INFO Request is queued\n",
      "2024-02-20 23:41:55,288 INFO Request is running\n",
      "2024-02-20 23:41:56,989 INFO Request is completed\n",
      "2024-02-20 23:41:56,990 INFO Downloading https://download-0003-clone.copernicus-climate.eu/cache-compute-0003/cache/data4/9d72bb96-e4e4-48ff-806f-8ec50f1e4467.nc to /Users/JFNeedham/Desktop/CAPE_downloads/data_downloads/2019_02.nc (37.1M)\n",
      "2024-02-20 23:42:02,508 INFO Download rate 6.7M/s                               \n",
      "2024-02-20 23:42:02,691 INFO Welcome to the CDS\n",
      "2024-02-20 23:42:02,692 INFO Sending request to https://cds.climate.copernicus.eu/api/v2/tasks/services/tool/toolbox/orchestrator/workflow/clientid-f7986201f5e6409a93681edcd2f0aef7\n"
     ]
    },
    {
     "name": "stdout",
     "output_type": "stream",
     "text": [
      "2019\n",
      "03\n"
     ]
    },
    {
     "name": "stderr",
     "output_type": "stream",
     "text": [
      "2024-02-20 23:42:03,078 INFO Downloading https://download-0001-clone.copernicus-climate.eu/cache-compute-0001/cache/data1/f8417fac-73cf-4a2c-9fc4-45300d386d70.nc to /Users/JFNeedham/Desktop/CAPE_downloads/data_downloads/2019_03.nc (41.1M)\n",
      "2024-02-20 23:42:08,512 INFO Download rate 7.6M/s                               \n",
      "2024-02-20 23:42:08,696 INFO Welcome to the CDS\n",
      "2024-02-20 23:42:08,697 INFO Sending request to https://cds.climate.copernicus.eu/api/v2/tasks/services/tool/toolbox/orchestrator/workflow/clientid-33aa1ce103b44129ab1e06553e9a0d97\n"
     ]
    },
    {
     "name": "stdout",
     "output_type": "stream",
     "text": [
      "2019\n",
      "04\n"
     ]
    },
    {
     "name": "stderr",
     "output_type": "stream",
     "text": [
      "2024-02-20 23:42:09,014 INFO Request is queued\n",
      "2024-02-20 23:42:10,212 INFO Request is running\n",
      "2024-02-20 23:42:42,561 INFO Request is completed\n",
      "2024-02-20 23:42:42,563 INFO Downloading https://download-0007-clone.copernicus-climate.eu/cache-compute-0007/cache/data4/0187f6fb-250d-4e78-849c-6f53c94cf448.nc to /Users/JFNeedham/Desktop/CAPE_downloads/data_downloads/2019_04.nc (39.7M)\n",
      "2024-02-20 23:42:50,303 INFO Download rate 5.1M/s                               \n",
      "2024-02-20 23:42:50,488 INFO Welcome to the CDS\n",
      "2024-02-20 23:42:50,489 INFO Sending request to https://cds.climate.copernicus.eu/api/v2/tasks/services/tool/toolbox/orchestrator/workflow/clientid-ba463fa3868c4723ac8276a1cefb3885\n"
     ]
    },
    {
     "name": "stdout",
     "output_type": "stream",
     "text": [
      "2019\n",
      "05\n"
     ]
    },
    {
     "name": "stderr",
     "output_type": "stream",
     "text": [
      "2024-02-20 23:42:50,885 INFO Request is queued\n",
      "2024-02-20 23:42:52,083 INFO Request is running\n",
      "2024-02-20 23:42:59,802 INFO Request is completed\n",
      "2024-02-20 23:42:59,803 INFO Downloading https://download-0005-clone.copernicus-climate.eu/cache-compute-0005/cache/data2/a3b499e1-daa9-474b-b919-d0174d968021.nc to /Users/JFNeedham/Desktop/CAPE_downloads/data_downloads/2019_05.nc (41.1M)\n",
      "2024-02-20 23:43:15,376 INFO Download rate 2.6M/s                               \n",
      "2024-02-20 23:43:15,559 INFO Welcome to the CDS\n",
      "2024-02-20 23:43:15,560 INFO Sending request to https://cds.climate.copernicus.eu/api/v2/tasks/services/tool/toolbox/orchestrator/workflow/clientid-1b7c9c979f5041098d4918ef89087cfb\n"
     ]
    },
    {
     "name": "stdout",
     "output_type": "stream",
     "text": [
      "2019\n",
      "06\n"
     ]
    },
    {
     "name": "stderr",
     "output_type": "stream",
     "text": [
      "2024-02-20 23:43:15,927 INFO Request is queued\n",
      "2024-02-20 23:43:17,122 INFO Request is running\n",
      "2024-02-20 23:46:09,088 INFO Request is completed\n",
      "2024-02-20 23:46:09,089 INFO Downloading https://download-0021.copernicus-climate.eu/cache-compute-0021/cache/data9/49be4ed9-7bd4-49eb-9fe8-e8a5420babb3.nc to /Users/JFNeedham/Desktop/CAPE_downloads/data_downloads/2019_06.nc (39.7M)\n",
      "2024-02-20 23:46:14,638 INFO Download rate 7.2M/s                               \n",
      "2024-02-20 23:46:14,822 INFO Welcome to the CDS\n",
      "2024-02-20 23:46:14,824 INFO Sending request to https://cds.climate.copernicus.eu/api/v2/tasks/services/tool/toolbox/orchestrator/workflow/clientid-93a0aa90ad3340158d9b700d0db270e3\n"
     ]
    },
    {
     "name": "stdout",
     "output_type": "stream",
     "text": [
      "2019\n",
      "07\n"
     ]
    },
    {
     "name": "stderr",
     "output_type": "stream",
     "text": [
      "2024-02-20 23:46:15,186 INFO Downloading https://download-0003-clone.copernicus-climate.eu/cache-compute-0003/cache/data1/16d7c436-5cf7-4bcc-b1c1-97cd30e401ad.nc to /Users/JFNeedham/Desktop/CAPE_downloads/data_downloads/2019_07.nc (41.1M)\n",
      "2024-02-20 23:46:22,642 INFO Download rate 5.5M/s                               \n",
      "2024-02-20 23:46:22,826 INFO Welcome to the CDS\n",
      "2024-02-20 23:46:22,828 INFO Sending request to https://cds.climate.copernicus.eu/api/v2/tasks/services/tool/toolbox/orchestrator/workflow/clientid-6f2cd95caa814d79ac3f1f93fd783159\n"
     ]
    },
    {
     "name": "stdout",
     "output_type": "stream",
     "text": [
      "2019\n",
      "08\n"
     ]
    },
    {
     "name": "stderr",
     "output_type": "stream",
     "text": [
      "2024-02-20 23:46:23,151 INFO Request is queued\n",
      "2024-02-20 23:46:24,349 INFO Request is running\n",
      "2024-02-20 23:48:18,441 INFO Request is completed\n",
      "2024-02-20 23:48:18,442 INFO Downloading https://download-0014-clone.copernicus-climate.eu/cache-compute-0014/cache/data2/b001f478-f14a-49a9-b96f-b6aadb0b687d.nc to /Users/JFNeedham/Desktop/CAPE_downloads/data_downloads/2019_08.nc (41.1M)\n",
      "2024-02-20 23:48:24,105 INFO Download rate 7.3M/s                               \n",
      "2024-02-20 23:48:24,289 INFO Welcome to the CDS\n",
      "2024-02-20 23:48:24,289 INFO Sending request to https://cds.climate.copernicus.eu/api/v2/tasks/services/tool/toolbox/orchestrator/workflow/clientid-e2aff941d6c544fda434b945cb3dd713\n"
     ]
    },
    {
     "name": "stdout",
     "output_type": "stream",
     "text": [
      "2019\n",
      "09\n"
     ]
    },
    {
     "name": "stderr",
     "output_type": "stream",
     "text": [
      "2024-02-20 23:48:24,659 INFO Downloading https://download-0009-clone.copernicus-climate.eu/cache-compute-0009/cache/data4/f9cd51cf-1880-444b-b66b-fc1bcf3d018a.nc to /Users/JFNeedham/Desktop/CAPE_downloads/data_downloads/2019_09.nc (39.7M)\n",
      "2024-02-20 23:48:44,258 INFO Download rate 2M/s                                 \n",
      "2024-02-20 23:48:44,440 INFO Welcome to the CDS\n",
      "2024-02-20 23:48:44,441 INFO Sending request to https://cds.climate.copernicus.eu/api/v2/tasks/services/tool/toolbox/orchestrator/workflow/clientid-24c3d92850be4b419558c4092eb88ff0\n"
     ]
    },
    {
     "name": "stdout",
     "output_type": "stream",
     "text": [
      "2019\n",
      "10\n"
     ]
    },
    {
     "name": "stderr",
     "output_type": "stream",
     "text": [
      "2024-02-20 23:48:44,820 INFO Downloading https://download-0004-clone.copernicus-climate.eu/cache-compute-0004/cache/data3/929208fe-8013-47a9-af82-45c528f65ae1.nc to /Users/JFNeedham/Desktop/CAPE_downloads/data_downloads/2019_10.nc (41.1M)\n",
      "2024-02-20 23:48:50,036 INFO Download rate 7.9M/s                               \n",
      "2024-02-20 23:48:50,219 INFO Welcome to the CDS\n",
      "2024-02-20 23:48:50,220 INFO Sending request to https://cds.climate.copernicus.eu/api/v2/tasks/services/tool/toolbox/orchestrator/workflow/clientid-e65a188249074fcb928c939cfaffe629\n"
     ]
    },
    {
     "name": "stdout",
     "output_type": "stream",
     "text": [
      "2019\n",
      "11\n"
     ]
    },
    {
     "name": "stderr",
     "output_type": "stream",
     "text": [
      "2024-02-20 23:48:50,616 INFO Downloading https://download-0020.copernicus-climate.eu/cache-compute-0020/cache/data0/44b22714-eeb9-48c5-8bf7-525a984a1b5a.nc to /Users/JFNeedham/Desktop/CAPE_downloads/data_downloads/2019_11.nc (39.7M)\n",
      "2024-02-20 23:49:00,014 INFO Download rate 4.2M/s                               \n",
      "2024-02-20 23:49:00,198 INFO Welcome to the CDS\n",
      "2024-02-20 23:49:00,200 INFO Sending request to https://cds.climate.copernicus.eu/api/v2/tasks/services/tool/toolbox/orchestrator/workflow/clientid-50b7bfc6d7734d17ac91f5045962b1b1\n"
     ]
    },
    {
     "name": "stdout",
     "output_type": "stream",
     "text": [
      "2019\n",
      "12\n"
     ]
    },
    {
     "name": "stderr",
     "output_type": "stream",
     "text": [
      "2024-02-20 23:49:00,519 INFO Request is queued\n",
      "2024-02-20 23:49:01,716 INFO Request is running\n",
      "2024-02-20 23:49:34,076 INFO Request is completed\n",
      "2024-02-20 23:49:34,077 INFO Downloading https://download-0020.copernicus-climate.eu/cache-compute-0020/cache/data9/b0711efa-b91c-4f61-8762-097b57ca43fa.nc to /Users/JFNeedham/Desktop/CAPE_downloads/data_downloads/2019_12.nc (41.1M)\n",
      "2024-02-20 23:49:48,670 INFO Download rate 2.8M/s                               \n"
     ]
    }
   ],
   "source": [
    "c = cdsapi.Client()\n",
    "\n",
    "MONTHS = [\n",
    " \"01\", \"02\", \"03\", \"04\", \"05\", \"06\",\n",
    " \"07\", \"08\", \"09\", \"10\", \"11\", \"12\"] \n",
    "\n",
    "YEARS = [\"2013\", \"2014\", \"2015\", \"2016\", \"2017\", \"2018\", \"2019\"]\n",
    "\n",
    "for year in YEARS:\n",
    "    for month in MONTHS:\n",
    "        print(year)\n",
    "        print(month)\n",
    "        result = c.service(\n",
    "            \"tool.toolbox.orchestrator.workflow\",\n",
    "            params={\n",
    "                \"realm\": \"user-apps\",\n",
    "                \"project\": \"app-c3s-daily-era5-statistics\",\n",
    "                \"version\": \"master\",\n",
    "                \"kwargs\": {\n",
    "                    \"dataset\": \"reanalysis-era5-single-levels\",\n",
    "                    \"product_type\": \"reanalysis\",\n",
    "                    \"variable\": \"convective_available_potential_energy\",\n",
    "                    \"statistic\": \"daily_maximum\", \"year\": year,\n",
    "                    \"month\": month,\n",
    "                    \"time_zone\": \"UTC+00:00\",\n",
    "                    \"frequency\": \"1-hourly\",\n",
    "                    \"grid\": \"0.25/0.25\",\n",
    "                    \"area\": {\"lat\": [-30, 30], \"lon\": [-180, 180]} },\n",
    "                \"workflow_name\": \"application\" })\n",
    "        c.download(result, targets=['/Users/JFNeedham/Desktop/CAPE_downloads/data_downloads/{0}_{1}.nc'.format(year,month)])\n",
    "\n",
    "\n"
   ]
  },
  {
   "cell_type": "code",
   "execution_count": null,
   "id": "e07e376e-480f-476b-a03b-40310d5220c5",
   "metadata": {},
   "outputs": [],
   "source": []
  }
 ],
 "metadata": {
  "kernelspec": {
   "display_name": "Python 3 (ipykernel)",
   "language": "python",
   "name": "python3"
  },
  "language_info": {
   "codemirror_mode": {
    "name": "ipython",
    "version": 3
   },
   "file_extension": ".py",
   "mimetype": "text/x-python",
   "name": "python",
   "nbconvert_exporter": "python",
   "pygments_lexer": "ipython3",
   "version": "3.11.3"
  }
 },
 "nbformat": 4,
 "nbformat_minor": 5
}
